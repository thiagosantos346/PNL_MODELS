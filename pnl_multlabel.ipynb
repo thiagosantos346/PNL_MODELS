{
  "nbformat": 4,
  "nbformat_minor": 0,
  "metadata": {
    "colab": {
      "name": "pnl_multlabel.ipynb",
      "provenance": [],
      "mount_file_id": "1iPJZeJX1eeZP15aGxpPwq8OM-oARfLIh",
      "authorship_tag": "ABX9TyN1FgsI1ewPF69qGGVaEvkp",
      "include_colab_link": true
    },
    "kernelspec": {
      "name": "python3",
      "display_name": "Python 3"
    }
  },
  "cells": [
    {
      "cell_type": "markdown",
      "metadata": {
        "id": "view-in-github",
        "colab_type": "text"
      },
      "source": [
        "<a href=\"https://colab.research.google.com/github/thiagosantos346/PNL_MODELS/blob/master/pnl_multlabel.ipynb\" target=\"_parent\"><img src=\"https://colab.research.google.com/assets/colab-badge.svg\" alt=\"Open In Colab\"/></a>"
      ]
    },
    {
      "cell_type": "markdown",
      "metadata": {
        "id": "iRa4Ulvmnt8h",
        "colab_type": "text"
      },
      "source": [
        "# Processamento de linguagem natural : Atributos multi-rotulado."
      ]
    },
    {
      "cell_type": "markdown",
      "metadata": {
        "id": "71FMPfZFSany",
        "colab_type": "text"
      },
      "source": [
        "## Importação dos dados:"
      ]
    },
    {
      "cell_type": "code",
      "metadata": {
        "id": "x9zLGeCwbE4b",
        "colab_type": "code",
        "colab": {}
      },
      "source": [
        "import pandas as pd"
      ],
      "execution_count": 0,
      "outputs": []
    },
    {
      "cell_type": "code",
      "metadata": {
        "id": "U1owgoRjbtG1",
        "colab_type": "code",
        "colab": {}
      },
      "source": [
        "data_set = pd.read_csv('/content/drive/My Drive/Colab Notebooks/stackoverflow/stackoverflow_perguntas.csv')"
      ],
      "execution_count": 0,
      "outputs": []
    },
    {
      "cell_type": "code",
      "metadata": {
        "id": "ikgeVKgbb0Ag",
        "colab_type": "code",
        "colab": {
          "base_uri": "https://localhost:8080/",
          "height": 204
        },
        "outputId": "94f29b18-8b7a-45eb-8c93-dcb4ed06980a"
      },
      "source": [
        "data_set.head()"
      ],
      "execution_count": 227,
      "outputs": [
        {
          "output_type": "execute_result",
          "data": {
            "text/html": [
              "<div>\n",
              "<style scoped>\n",
              "    .dataframe tbody tr th:only-of-type {\n",
              "        vertical-align: middle;\n",
              "    }\n",
              "\n",
              "    .dataframe tbody tr th {\n",
              "        vertical-align: top;\n",
              "    }\n",
              "\n",
              "    .dataframe thead th {\n",
              "        text-align: right;\n",
              "    }\n",
              "</style>\n",
              "<table border=\"1\" class=\"dataframe\">\n",
              "  <thead>\n",
              "    <tr style=\"text-align: right;\">\n",
              "      <th></th>\n",
              "      <th>Perguntas</th>\n",
              "      <th>Tags</th>\n",
              "    </tr>\n",
              "  </thead>\n",
              "  <tbody>\n",
              "    <tr>\n",
              "      <th>0</th>\n",
              "      <td>Possuo um projeto Node.js porém preciso criar ...</td>\n",
              "      <td>node.js</td>\n",
              "    </tr>\n",
              "    <tr>\n",
              "      <th>1</th>\n",
              "      <td>Gostaria de fazer testes unitários no Node.js,...</td>\n",
              "      <td>node.js</td>\n",
              "    </tr>\n",
              "    <tr>\n",
              "      <th>2</th>\n",
              "      <td>Como inverter a ordem com que o jQuery itera u...</td>\n",
              "      <td>jquery</td>\n",
              "    </tr>\n",
              "    <tr>\n",
              "      <th>3</th>\n",
              "      <td>Eu tenho uma página onde pretendo utilizar um ...</td>\n",
              "      <td>html</td>\n",
              "    </tr>\n",
              "    <tr>\n",
              "      <th>4</th>\n",
              "      <td>Como exibir os dados retornados do FireStore e...</td>\n",
              "      <td>html angular</td>\n",
              "    </tr>\n",
              "  </tbody>\n",
              "</table>\n",
              "</div>"
            ],
            "text/plain": [
              "                                           Perguntas           Tags\n",
              "0  Possuo um projeto Node.js porém preciso criar ...        node.js\n",
              "1  Gostaria de fazer testes unitários no Node.js,...        node.js\n",
              "2  Como inverter a ordem com que o jQuery itera u...         jquery\n",
              "3  Eu tenho uma página onde pretendo utilizar um ...           html\n",
              "4  Como exibir os dados retornados do FireStore e...  html angular "
            ]
          },
          "metadata": {
            "tags": []
          },
          "execution_count": 227
        }
      ]
    },
    {
      "cell_type": "markdown",
      "metadata": {
        "id": "7FvFrKu5SSqm",
        "colab_type": "text"
      },
      "source": [
        "## Limpando os dados:"
      ]
    },
    {
      "cell_type": "markdown",
      "metadata": {
        "id": "s3FZN3gmoLCK",
        "colab_type": "text"
      },
      "source": [
        "Aparentemente, temos uma classificação com multiplos rotulos, pois vendo a coluna tags, notamos que na linha 4, existe dois rotulos para a pergunta..."
      ]
    },
    {
      "cell_type": "markdown",
      "metadata": {
        "id": "Ro-ayIPzoSEE",
        "colab_type": "text"
      },
      "source": [
        "Agoras é interessante saber também o tamanho do nosso problema...\n",
        " - Vamos ver o tamanho total do conjunto de dados(dataset)\n",
        " - Depois a quantidade de tags únicas...\n"
      ]
    },
    {
      "cell_type": "code",
      "metadata": {
        "id": "ygK_jrCyn5xK",
        "colab_type": "code",
        "colab": {
          "base_uri": "https://localhost:8080/",
          "height": 34
        },
        "outputId": "8d1f8fb7-c8e7-4696-c0b6-ce1864e193b9"
      },
      "source": [
        "dataset_size = len(data_set)\n",
        "message_size =  'Número de linhas no dataset:{}.'.format(dataset_size)\n",
        "print (message_size)"
      ],
      "execution_count": 228,
      "outputs": [
        {
          "output_type": "stream",
          "text": [
            "Número de linhas no dataset:5408.\n"
          ],
          "name": "stdout"
        }
      ]
    },
    {
      "cell_type": "code",
      "metadata": {
        "id": "nzGUco92p1WG",
        "colab_type": "code",
        "colab": {
          "base_uri": "https://localhost:8080/",
          "height": 204
        },
        "outputId": "b842fe9c-5483-40a7-da06-08d9f5739deb"
      },
      "source": [
        "tag_list = data_set.Tags\n",
        "size = len(tag_list.unique())\n",
        "tag_list = tag_list.unique()\n",
        "\n",
        "message_size =  'Número de valores únicos:{size}.\\n Valores :\\n {values}'\n",
        "message_size =  message_size.format(size=size, values=tag_list)\n",
        "\n",
        "print(message_size)\n"
      ],
      "execution_count": 229,
      "outputs": [
        {
          "output_type": "stream",
          "text": [
            "Número de valores únicos:37.\n",
            " Valores :\n",
            " ['node.js' 'jquery' 'html' 'html angular ' 'html ' 'angular' 'angular '\n",
            " 'jquery html  ' 'jquery ' 'jquery html' 'jquery html ' 'html angular'\n",
            " 'angular node.js ' 'html  ' 'jquery html angular' 'node.js '\n",
            " 'html jquery' 'html jquery ' 'jquery angular  ' 'html node.js' 'jquery  '\n",
            " 'angular node.js' 'jquery angular' 'html node.js ' 'jquery node.js '\n",
            " 'angular  ' 'jquery angular ' 'jquery html angular ' 'node.js html '\n",
            " ' node.js' 'node.js html' 'html angular  ' 'jquery node.js'\n",
            " 'angular html' 'html angular  node.js' 'jquery html node.js'\n",
            " 'html angular node.js']\n"
          ],
          "name": "stdout"
        }
      ]
    },
    {
      "cell_type": "markdown",
      "metadata": {
        "id": "KtAAIz-JqPCV",
        "colab_type": "text"
      },
      "source": [
        "Feito isso podemos notar alguns problemas que devemos tratar:\n",
        " - A ordem das palavras estão gerando novos valores únicos;\n",
        " - Erros e ruidos tamabém produzem novos valores únicos;\n",
        " "
      ]
    },
    {
      "cell_type": "code",
      "metadata": {
        "id": "t09ftmwVrr-P",
        "colab_type": "code",
        "colab": {
          "base_uri": "https://localhost:8080/",
          "height": 34
        },
        "outputId": "9e97bfb3-d15a-4c35-c3c6-846b49f32e6a"
      },
      "source": [
        "def get_clean_tag_list(tags_list):\n",
        "  cleaned_tag_list = list()\n",
        "  for tags in tags_list:\n",
        "    tags_splited = tags.split()\n",
        "    for tag in tags_splited:\n",
        "      if tag not in cleaned_tag_list:\n",
        "        cleaned_tag_list.append(tag)\n",
        "  return cleaned_tag_list\n",
        "\n",
        "cleaned_tag_list = get_clean_tag_list(tag_list)\n",
        "print(cleaned_tag_list)\n"
      ],
      "execution_count": 230,
      "outputs": [
        {
          "output_type": "stream",
          "text": [
            "['node.js', 'jquery', 'html', 'angular']\n"
          ],
          "name": "stdout"
        }
      ]
    },
    {
      "cell_type": "code",
      "metadata": {
        "id": "cJtOzZuUKS-T",
        "colab_type": "code",
        "colab": {
          "base_uri": "https://localhost:8080/",
          "height": 221
        },
        "outputId": "47ad7997-c0c8-45ea-f9fb-d45f8046b53e"
      },
      "source": [
        "print(data_set['Tags'])"
      ],
      "execution_count": 231,
      "outputs": [
        {
          "output_type": "stream",
          "text": [
            "0             node.js\n",
            "1             node.js\n",
            "2              jquery\n",
            "3                html\n",
            "4       html angular \n",
            "            ...      \n",
            "5403     jquery html \n",
            "5404            html \n",
            "5405      jquery html\n",
            "5406             html\n",
            "5407      jquery html\n",
            "Name: Tags, Length: 5408, dtype: object\n"
          ],
          "name": "stdout"
        }
      ]
    },
    {
      "cell_type": "code",
      "metadata": {
        "id": "mjYuYluSDkUJ",
        "colab_type": "code",
        "colab": {}
      },
      "source": [
        "def count_label_in_row(label_list, data_set, column_name='Tags'): \n",
        "  for tag in label_list:\n",
        "    count_list = list()\n",
        "    for column in data_set[column_name]:\n",
        "      if tag in column:\n",
        "        value = 1\n",
        "      else:\n",
        "        value = 0\n",
        "      count_list.append(value)\n",
        "    \n",
        "    data_set[tag] = count_list"
      ],
      "execution_count": 0,
      "outputs": []
    },
    {
      "cell_type": "code",
      "metadata": {
        "id": "yn9jLBkzI_16",
        "colab_type": "code",
        "colab": {
          "base_uri": "https://localhost:8080/",
          "height": 419
        },
        "outputId": "c65cc50b-a56d-4c77-e3aa-f4a44ef3d4ae"
      },
      "source": [
        "count_label_in_row(cleaned_tag_list, data_set)\n",
        "data_set.head(100)"
      ],
      "execution_count": 233,
      "outputs": [
        {
          "output_type": "execute_result",
          "data": {
            "text/html": [
              "<div>\n",
              "<style scoped>\n",
              "    .dataframe tbody tr th:only-of-type {\n",
              "        vertical-align: middle;\n",
              "    }\n",
              "\n",
              "    .dataframe tbody tr th {\n",
              "        vertical-align: top;\n",
              "    }\n",
              "\n",
              "    .dataframe thead th {\n",
              "        text-align: right;\n",
              "    }\n",
              "</style>\n",
              "<table border=\"1\" class=\"dataframe\">\n",
              "  <thead>\n",
              "    <tr style=\"text-align: right;\">\n",
              "      <th></th>\n",
              "      <th>Perguntas</th>\n",
              "      <th>Tags</th>\n",
              "      <th>node.js</th>\n",
              "      <th>jquery</th>\n",
              "      <th>html</th>\n",
              "      <th>angular</th>\n",
              "    </tr>\n",
              "  </thead>\n",
              "  <tbody>\n",
              "    <tr>\n",
              "      <th>0</th>\n",
              "      <td>Possuo um projeto Node.js porém preciso criar ...</td>\n",
              "      <td>node.js</td>\n",
              "      <td>1</td>\n",
              "      <td>0</td>\n",
              "      <td>0</td>\n",
              "      <td>0</td>\n",
              "    </tr>\n",
              "    <tr>\n",
              "      <th>1</th>\n",
              "      <td>Gostaria de fazer testes unitários no Node.js,...</td>\n",
              "      <td>node.js</td>\n",
              "      <td>1</td>\n",
              "      <td>0</td>\n",
              "      <td>0</td>\n",
              "      <td>0</td>\n",
              "    </tr>\n",
              "    <tr>\n",
              "      <th>2</th>\n",
              "      <td>Como inverter a ordem com que o jQuery itera u...</td>\n",
              "      <td>jquery</td>\n",
              "      <td>0</td>\n",
              "      <td>1</td>\n",
              "      <td>0</td>\n",
              "      <td>0</td>\n",
              "    </tr>\n",
              "    <tr>\n",
              "      <th>3</th>\n",
              "      <td>Eu tenho uma página onde pretendo utilizar um ...</td>\n",
              "      <td>html</td>\n",
              "      <td>0</td>\n",
              "      <td>0</td>\n",
              "      <td>1</td>\n",
              "      <td>0</td>\n",
              "    </tr>\n",
              "    <tr>\n",
              "      <th>4</th>\n",
              "      <td>Como exibir os dados retornados do FireStore e...</td>\n",
              "      <td>html angular</td>\n",
              "      <td>0</td>\n",
              "      <td>0</td>\n",
              "      <td>1</td>\n",
              "      <td>1</td>\n",
              "    </tr>\n",
              "    <tr>\n",
              "      <th>...</th>\n",
              "      <td>...</td>\n",
              "      <td>...</td>\n",
              "      <td>...</td>\n",
              "      <td>...</td>\n",
              "      <td>...</td>\n",
              "      <td>...</td>\n",
              "    </tr>\n",
              "    <tr>\n",
              "      <th>95</th>\n",
              "      <td>Tenho um projeto desenvolvido em angular 1, es...</td>\n",
              "      <td>angular</td>\n",
              "      <td>0</td>\n",
              "      <td>0</td>\n",
              "      <td>0</td>\n",
              "      <td>1</td>\n",
              "    </tr>\n",
              "    <tr>\n",
              "      <th>96</th>\n",
              "      <td>Tenho esse html:    Gostaria que quando o usuá...</td>\n",
              "      <td>jquery html</td>\n",
              "      <td>0</td>\n",
              "      <td>1</td>\n",
              "      <td>1</td>\n",
              "      <td>0</td>\n",
              "    </tr>\n",
              "    <tr>\n",
              "      <th>97</th>\n",
              "      <td>Ao incluir um item dinamicamente na CODE , eu ...</td>\n",
              "      <td>jquery</td>\n",
              "      <td>0</td>\n",
              "      <td>1</td>\n",
              "      <td>0</td>\n",
              "      <td>0</td>\n",
              "    </tr>\n",
              "    <tr>\n",
              "      <th>98</th>\n",
              "      <td>Gostaria de saber a maneira correta, seguindo ...</td>\n",
              "      <td>jquery</td>\n",
              "      <td>0</td>\n",
              "      <td>1</td>\n",
              "      <td>0</td>\n",
              "      <td>0</td>\n",
              "    </tr>\n",
              "    <tr>\n",
              "      <th>99</th>\n",
              "      <td>Bom dia pessoal !   Seguinte, eu possuo um cód...</td>\n",
              "      <td>html</td>\n",
              "      <td>0</td>\n",
              "      <td>0</td>\n",
              "      <td>1</td>\n",
              "      <td>0</td>\n",
              "    </tr>\n",
              "  </tbody>\n",
              "</table>\n",
              "<p>100 rows × 6 columns</p>\n",
              "</div>"
            ],
            "text/plain": [
              "                                            Perguntas  ... angular\n",
              "0   Possuo um projeto Node.js porém preciso criar ...  ...       0\n",
              "1   Gostaria de fazer testes unitários no Node.js,...  ...       0\n",
              "2   Como inverter a ordem com que o jQuery itera u...  ...       0\n",
              "3   Eu tenho uma página onde pretendo utilizar um ...  ...       0\n",
              "4   Como exibir os dados retornados do FireStore e...  ...       1\n",
              "..                                                ...  ...     ...\n",
              "95  Tenho um projeto desenvolvido em angular 1, es...  ...       1\n",
              "96  Tenho esse html:    Gostaria que quando o usuá...  ...       0\n",
              "97  Ao incluir um item dinamicamente na CODE , eu ...  ...       0\n",
              "98  Gostaria de saber a maneira correta, seguindo ...  ...       0\n",
              "99  Bom dia pessoal !   Seguinte, eu possuo um cód...  ...       0\n",
              "\n",
              "[100 rows x 6 columns]"
            ]
          },
          "metadata": {
            "tags": []
          },
          "execution_count": 233
        }
      ]
    },
    {
      "cell_type": "markdown",
      "metadata": {
        "id": "w__PQxpCQuYs",
        "colab_type": "text"
      },
      "source": [
        "Agora que criamos uma coluna para cada tag unica, e marcamos o número de ocorrências dessa tag na linha podemos prosseguir para dividir as massa de dados para treino e teste."
      ]
    },
    {
      "cell_type": "markdown",
      "metadata": {
        "id": "afdjakQQSGjp",
        "colab_type": "text"
      },
      "source": [
        "## Separação do conjunto de dados para teste e treino:"
      ]
    },
    {
      "cell_type": "markdown",
      "metadata": {
        "id": "WOMioUNvTmT2",
        "colab_type": "text"
      },
      "source": [
        "### Zipar as colunas\n",
        "1. Temos uma pequena diferença da divisão feita nos modelos mais simples:\n",
        " - Temos 4 colunas para representar apenas uma entidade;\n",
        " - Nosso divisor precisa de um atributo que represente as 4 colunas em apenas uma.\n",
        "\n",
        "  Sendo assim ao dividir os dados de teste e treino poderiamos ficar com dados \n",
        "  não proporcionais a realidade, isso é uma divisão de dados que não contivesse uma das tags que queremos treinar o nosos modelo, a ideia é dividir os dados de maneira que não falte entidades na massa de dados para treino, evitando assim testar um valor ao qual o modelo não foi treinado.\n",
        "\n",
        "2. Solução:\n",
        " - Criar apenas uma coluna contendo o crusamento dos valores da lita.\n",
        " - Para isso vamos usar uma função de zipagens dos dados a funcção `zip()`.\n",
        " - Assin contruindo uma coluna de tupulas das cominações de de cada rotulo que queremos prover.\n"
      ]
    },
    {
      "cell_type": "code",
      "metadata": {
        "id": "43b8e_K2WDXs",
        "colab_type": "code",
        "colab": {
          "base_uri": "https://localhost:8080/",
          "height": 204
        },
        "outputId": "3b4de778-a726-4127-ac46-be8498f5d751"
      },
      "source": [
        "l1 = data_set[cleaned_tag_list[0]]\n",
        "l2 = data_set[cleaned_tag_list[1]]\n",
        "l3 = data_set[cleaned_tag_list[2]]\n",
        "l4 = data_set[cleaned_tag_list[3]]\n",
        "ziped_tag_list = list(zip( l1, l2, l3, l4))\n",
        "\n",
        "data_set['all_tagas_tupules'] =  ziped_tag_list\n",
        "data_set.head()"
      ],
      "execution_count": 234,
      "outputs": [
        {
          "output_type": "execute_result",
          "data": {
            "text/html": [
              "<div>\n",
              "<style scoped>\n",
              "    .dataframe tbody tr th:only-of-type {\n",
              "        vertical-align: middle;\n",
              "    }\n",
              "\n",
              "    .dataframe tbody tr th {\n",
              "        vertical-align: top;\n",
              "    }\n",
              "\n",
              "    .dataframe thead th {\n",
              "        text-align: right;\n",
              "    }\n",
              "</style>\n",
              "<table border=\"1\" class=\"dataframe\">\n",
              "  <thead>\n",
              "    <tr style=\"text-align: right;\">\n",
              "      <th></th>\n",
              "      <th>Perguntas</th>\n",
              "      <th>Tags</th>\n",
              "      <th>node.js</th>\n",
              "      <th>jquery</th>\n",
              "      <th>html</th>\n",
              "      <th>angular</th>\n",
              "      <th>all_tagas_tupules</th>\n",
              "    </tr>\n",
              "  </thead>\n",
              "  <tbody>\n",
              "    <tr>\n",
              "      <th>0</th>\n",
              "      <td>Possuo um projeto Node.js porém preciso criar ...</td>\n",
              "      <td>node.js</td>\n",
              "      <td>1</td>\n",
              "      <td>0</td>\n",
              "      <td>0</td>\n",
              "      <td>0</td>\n",
              "      <td>(1, 0, 0, 0)</td>\n",
              "    </tr>\n",
              "    <tr>\n",
              "      <th>1</th>\n",
              "      <td>Gostaria de fazer testes unitários no Node.js,...</td>\n",
              "      <td>node.js</td>\n",
              "      <td>1</td>\n",
              "      <td>0</td>\n",
              "      <td>0</td>\n",
              "      <td>0</td>\n",
              "      <td>(1, 0, 0, 0)</td>\n",
              "    </tr>\n",
              "    <tr>\n",
              "      <th>2</th>\n",
              "      <td>Como inverter a ordem com que o jQuery itera u...</td>\n",
              "      <td>jquery</td>\n",
              "      <td>0</td>\n",
              "      <td>1</td>\n",
              "      <td>0</td>\n",
              "      <td>0</td>\n",
              "      <td>(0, 1, 0, 0)</td>\n",
              "    </tr>\n",
              "    <tr>\n",
              "      <th>3</th>\n",
              "      <td>Eu tenho uma página onde pretendo utilizar um ...</td>\n",
              "      <td>html</td>\n",
              "      <td>0</td>\n",
              "      <td>0</td>\n",
              "      <td>1</td>\n",
              "      <td>0</td>\n",
              "      <td>(0, 0, 1, 0)</td>\n",
              "    </tr>\n",
              "    <tr>\n",
              "      <th>4</th>\n",
              "      <td>Como exibir os dados retornados do FireStore e...</td>\n",
              "      <td>html angular</td>\n",
              "      <td>0</td>\n",
              "      <td>0</td>\n",
              "      <td>1</td>\n",
              "      <td>1</td>\n",
              "      <td>(0, 0, 1, 1)</td>\n",
              "    </tr>\n",
              "  </tbody>\n",
              "</table>\n",
              "</div>"
            ],
            "text/plain": [
              "                                           Perguntas  ... all_tagas_tupules\n",
              "0  Possuo um projeto Node.js porém preciso criar ...  ...      (1, 0, 0, 0)\n",
              "1  Gostaria de fazer testes unitários no Node.js,...  ...      (1, 0, 0, 0)\n",
              "2  Como inverter a ordem com que o jQuery itera u...  ...      (0, 1, 0, 0)\n",
              "3  Eu tenho uma página onde pretendo utilizar um ...  ...      (0, 0, 1, 0)\n",
              "4  Como exibir os dados retornados do FireStore e...  ...      (0, 0, 1, 1)\n",
              "\n",
              "[5 rows x 7 columns]"
            ]
          },
          "metadata": {
            "tags": []
          },
          "execution_count": 234
        }
      ]
    },
    {
      "cell_type": "markdown",
      "metadata": {
        "id": "NyaWSSKJWEjj",
        "colab_type": "text"
      },
      "source": [
        "### Seprar os dados:"
      ]
    },
    {
      "cell_type": "code",
      "metadata": {
        "id": "fwrVcJmhQron",
        "colab_type": "code",
        "colab": {}
      },
      "source": [
        "from sklearn.model_selection import train_test_split\n",
        "import random\n",
        "\n",
        "fit_input_dataset, test_input_dataset, fit_output_dataset, test_output_dataset = train_test_split(\n",
        "    data_set['Perguntas'],\n",
        "    data_set['all_tagas_tupules'],\n",
        "    test_size=0.2,\n",
        "    random_state=random.randint(1, 1000)\n",
        ")"
      ],
      "execution_count": 0,
      "outputs": []
    },
    {
      "cell_type": "markdown",
      "metadata": {
        "id": "ApWg2-68ah6y",
        "colab_type": "text"
      },
      "source": [
        "#### Vetorização do input de treino:"
      ]
    },
    {
      "cell_type": "markdown",
      "metadata": {
        "id": "vcFj38quawwV",
        "colab_type": "text"
      },
      "source": [
        "##### TF-IDF"
      ]
    },
    {
      "cell_type": "markdown",
      "metadata": {
        "id": "jgDi4E0qbcLn",
        "colab_type": "text"
      },
      "source": [
        "###### Configurar o vetorizador :\n",
        " - Vamos definir o número maximo de linhas no vetor com `max_features`.\n",
        " - Vamos retirar as palavras que se repetem muinto com `max_df`."
      ]
    },
    {
      "cell_type": "code",
      "metadata": {
        "id": "6p3Wtt64TDnC",
        "colab_type": "code",
        "colab": {}
      },
      "source": [
        "from sklearn.feature_extraction.text import TfidfVectorizer\n",
        "MAX_FEATURES = 5000\n",
        "MAX_DISTANCE_FREQUENCIE = 0.85\n",
        "vectorizer = TfidfVectorizer(max_features=MAX_FEATURES, max_df=MAX_DISTANCE_FREQUENCIE)"
      ],
      "execution_count": 0,
      "outputs": []
    },
    {
      "cell_type": "markdown",
      "metadata": {
        "id": "vV_KcnhXc3lJ",
        "colab_type": "text"
      },
      "source": [
        "###### Vamos criar o vetor de frequência de palavras no texto:"
      ]
    },
    {
      "cell_type": "code",
      "metadata": {
        "id": "W6ln69tqdI9n",
        "colab_type": "code",
        "colab": {}
      },
      "source": [
        "vectorizer.fit(data_set['Perguntas'])\n",
        "fit_input_dataset_tfidf = vectorizer.transform(fit_input_dataset)\n",
        "test_input_dataset_tfidf = vectorizer.transform(test_input_dataset)"
      ],
      "execution_count": 0,
      "outputs": []
    },
    {
      "cell_type": "code",
      "metadata": {
        "id": "E1tfAsDWdqkr",
        "colab_type": "code",
        "colab": {
          "base_uri": "https://localhost:8080/",
          "height": 51
        },
        "outputId": "d385fee3-7271-4912-8a11-385a82f8783f"
      },
      "source": [
        "print(fit_input_dataset_tfidf.shape)\n",
        "print(test_input_dataset_tfidf.shape)"
      ],
      "execution_count": 238,
      "outputs": [
        {
          "output_type": "stream",
          "text": [
            "(4326, 5000)\n",
            "(1082, 5000)\n"
          ],
          "name": "stdout"
        }
      ]
    },
    {
      "cell_type": "markdown",
      "metadata": {
        "id": "bdqTo80TePz8",
        "colab_type": "text"
      },
      "source": [
        "Como vemos foram geradas 5000 linhas, e combinadas com a frequência da proporção de pareto 80/20, para treino e teste."
      ]
    },
    {
      "cell_type": "markdown",
      "metadata": {
        "id": "2dUCci40R4IR",
        "colab_type": "text"
      },
      "source": [
        "## Treinando o modelo:"
      ]
    },
    {
      "cell_type": "markdown",
      "metadata": {
        "id": "L4DgTvO33SxF",
        "colab_type": "text"
      },
      "source": [
        "**Relevância Binária**"
      ]
    },
    {
      "cell_type": "markdown",
      "metadata": {
        "id": "q4TYvkqynyOj",
        "colab_type": "text"
      },
      "source": [
        "Essa estratégia se base em uma catégorização binaria simples, porem aplicada a cada uma das tupulas que queremos testar."
      ]
    },
    {
      "cell_type": "markdown",
      "metadata": {
        "id": "DDArHY8voJpH",
        "colab_type": "text"
      },
      "source": [
        "### Classificador:\n",
        "Usáremos o algoritmo **OneVsRestClassifier**, que tem como **Requesitos**:\n",
        "  - Um **Estimador**, usaremos a **Regreção lógistica**."
      ]
    },
    {
      "cell_type": "markdown",
      "metadata": {
        "id": "cMvqO0MTpPOP",
        "colab_type": "text"
      },
      "source": [
        "### Regreção Lógistica :"
      ]
    },
    {
      "cell_type": "code",
      "metadata": {
        "id": "K3Ib1jbIo_yK",
        "colab_type": "code",
        "colab": {}
      },
      "source": [
        "from sklearn.linear_model import LogisticRegression\n",
        "\n",
        "instance_LogisticRegression = LogisticRegression(solver='lbfgs')"
      ],
      "execution_count": 0,
      "outputs": []
    },
    {
      "cell_type": "markdown",
      "metadata": {
        "id": "yh49bKzApUkt",
        "colab_type": "text"
      },
      "source": [
        "### OneVsOneClassifier"
      ]
    },
    {
      "cell_type": "code",
      "metadata": {
        "id": "Ce_kPSh7oBBm",
        "colab_type": "code",
        "colab": {}
      },
      "source": [
        "from sklearn.multiclass import OneVsRestClassifier\n",
        "\n",
        "instance_OneVsRestClassifier = OneVsRestClassifier(instance_LogisticRegression)"
      ],
      "execution_count": 0,
      "outputs": []
    },
    {
      "cell_type": "markdown",
      "metadata": {
        "id": "VErqoqrCqLtb",
        "colab_type": "text"
      },
      "source": [
        "### Tranformação pre-treino:"
      ]
    },
    {
      "cell_type": "markdown",
      "metadata": {
        "id": "Y9uZJrkLqXzW",
        "colab_type": "text"
      },
      "source": [
        "O nosso classificador recebe como entrada um arranjo binário, porem os nosso dados de treinos são do tipo serie, para resolver isso precisamos converter esses dados em um arranjo binário ou uma matriz esparsa."
      ]
    },
    {
      "cell_type": "code",
      "metadata": {
        "id": "BZS5XgLpqqLS",
        "colab_type": "code",
        "colab": {
          "base_uri": "https://localhost:8080/",
          "height": 34
        },
        "outputId": "72bc1c91-831f-4bf7-8767-b91813ecf46b"
      },
      "source": [
        "type(fit_output_dataset)"
      ],
      "execution_count": 241,
      "outputs": [
        {
          "output_type": "execute_result",
          "data": {
            "text/plain": [
              "pandas.core.series.Series"
            ]
          },
          "metadata": {
            "tags": []
          },
          "execution_count": 241
        }
      ]
    },
    {
      "cell_type": "markdown",
      "metadata": {
        "id": "hnI4YLPcuW16",
        "colab_type": "text"
      },
      "source": [
        "Além dessa transformação, precisamos fazer as tupulas se tornarem listas, por isso o list em volta dos dados de treino e test de saída."
      ]
    },
    {
      "cell_type": "code",
      "metadata": {
        "id": "K06zC1oUrKN8",
        "colab_type": "code",
        "colab": {}
      },
      "source": [
        "import numpy as np\n",
        "\n",
        "array_fit_output_dataset = np.asarray(list(fit_output_dataset))\n",
        "array_test_output_dataset = np.asarray(list(test_output_dataset))"
      ],
      "execution_count": 0,
      "outputs": []
    },
    {
      "cell_type": "code",
      "metadata": {
        "id": "Bf8DkUNzryZj",
        "colab_type": "code",
        "colab": {
          "base_uri": "https://localhost:8080/",
          "height": 34
        },
        "outputId": "8c0b844c-a599-4837-9efb-ec76377dfaf0"
      },
      "source": [
        "len(array_test_output_dataset)"
      ],
      "execution_count": 243,
      "outputs": [
        {
          "output_type": "execute_result",
          "data": {
            "text/plain": [
              "1082"
            ]
          },
          "metadata": {
            "tags": []
          },
          "execution_count": 243
        }
      ]
    },
    {
      "cell_type": "markdown",
      "metadata": {
        "id": "zYgWN69IqA0l",
        "colab_type": "text"
      },
      "source": [
        "### Executando o Treinamento :"
      ]
    },
    {
      "cell_type": "markdown",
      "metadata": {
        "id": "eKZ3OKhjvIZZ",
        "colab_type": "text"
      },
      "source": [
        "Agora basta treinar o modelo com os TF-IDF e os Arrays de saída, criados anteriormente:"
      ]
    },
    {
      "cell_type": "code",
      "metadata": {
        "id": "WB1makMAp_-R",
        "colab_type": "code",
        "colab": {
          "base_uri": "https://localhost:8080/",
          "height": 187
        },
        "outputId": "a36f8202-63d9-4904-9c6b-fbfb9844a8e0"
      },
      "source": [
        "instance_OneVsRestClassifier.fit(fit_input_dataset_tfidf, array_fit_output_dataset)"
      ],
      "execution_count": 244,
      "outputs": [
        {
          "output_type": "execute_result",
          "data": {
            "text/plain": [
              "OneVsRestClassifier(estimator=LogisticRegression(C=1.0, class_weight=None,\n",
              "                                                 dual=False, fit_intercept=True,\n",
              "                                                 intercept_scaling=1,\n",
              "                                                 l1_ratio=None, max_iter=100,\n",
              "                                                 multi_class='auto',\n",
              "                                                 n_jobs=None, penalty='l2',\n",
              "                                                 random_state=None,\n",
              "                                                 solver='lbfgs', tol=0.0001,\n",
              "                                                 verbose=0, warm_start=False),\n",
              "                    n_jobs=None)"
            ]
          },
          "metadata": {
            "tags": []
          },
          "execution_count": 244
        }
      ]
    },
    {
      "cell_type": "markdown",
      "metadata": {
        "id": "BKiNkhhQS_TI",
        "colab_type": "text"
      },
      "source": [
        "## Avaliando o modelo"
      ]
    },
    {
      "cell_type": "markdown",
      "metadata": {
        "id": "rcfqPROW3qOR",
        "colab_type": "text"
      },
      "source": [
        "### Acurácia : "
      ]
    },
    {
      "cell_type": "markdown",
      "metadata": {
        "id": "MJnSJmV10hlt",
        "colab_type": "text"
      },
      "source": [
        "A acurácia não é o melhor meio de avaliar o nosso modelo, pois é baseda em `Exact Match` que seria uma combinação exata das 4 colunas que queremos \n",
        "predizer."
      ]
    },
    {
      "cell_type": "code",
      "metadata": {
        "id": "DnDXdyUsxPFv",
        "colab_type": "code",
        "colab": {
          "base_uri": "https://localhost:8080/",
          "height": 34
        },
        "outputId": "f38f0965-e70f-45cd-e018-f55ee0aa9206"
      },
      "source": [
        "score = instance_OneVsRestClassifier.score(test_input_dataset_tfidf, array_test_output_dataset)\n",
        "mensage_model_acuracy = 'Acurácia atribuida : {0: .2f}%'.format(score*100)\n",
        "print(mensage_model_acuracy)"
      ],
      "execution_count": 245,
      "outputs": [
        {
          "output_type": "stream",
          "text": [
            "Acurácia atribuida :  38.72%\n"
          ],
          "name": "stdout"
        }
      ]
    },
    {
      "cell_type": "markdown",
      "metadata": {
        "id": "_2ceYTcx1Bxu",
        "colab_type": "text"
      },
      "source": [
        "Só para termos uma noção, vamos ver quantas combinações possiveis existem no nosso resultado."
      ]
    },
    {
      "cell_type": "code",
      "metadata": {
        "id": "mAJZlNrG1MSq",
        "colab_type": "code",
        "colab": {
          "base_uri": "https://localhost:8080/",
          "height": 34
        },
        "outputId": "8b636a0d-f23d-4b87-ebce-7a0bb18fdd66"
      },
      "source": [
        "choices = len(data_set.all_tagas_tupules.unique())\n",
        "print(choices)"
      ],
      "execution_count": 246,
      "outputs": [
        {
          "output_type": "stream",
          "text": [
            "13\n"
          ],
          "name": "stdout"
        }
      ]
    },
    {
      "cell_type": "markdown",
      "metadata": {
        "id": "HH4pAdkg1dqh",
        "colab_type": "text"
      },
      "source": [
        "O nosso total é:"
      ]
    },
    {
      "cell_type": "code",
      "metadata": {
        "id": "a0L9zhhu1iYJ",
        "colab_type": "code",
        "colab": {
          "base_uri": "https://localhost:8080/",
          "height": 34
        },
        "outputId": "75f5e88b-b59f-4add-9ecb-8126b546ddde"
      },
      "source": [
        "options = len(data_set.all_tagas_tupules)\n",
        "print(options)"
      ],
      "execution_count": 247,
      "outputs": [
        {
          "output_type": "stream",
          "text": [
            "5408\n"
          ],
          "name": "stdout"
        }
      ]
    },
    {
      "cell_type": "markdown",
      "metadata": {
        "id": "QNZQRBjr1lsq",
        "colab_type": "text"
      },
      "source": [
        "Com uma escolha aleátoria termismos a seguinte chances de acertar: "
      ]
    },
    {
      "cell_type": "code",
      "metadata": {
        "id": "44w82oVG1k4Z",
        "colab_type": "code",
        "colab": {
          "base_uri": "https://localhost:8080/",
          "height": 34
        },
        "outputId": "91a7fa26-4590-422f-d4a9-f4ec7272980f"
      },
      "source": [
        "mensage_random_choice  = 'Acurácia atribuida : {0: .2f}%'.format((choices/options) * 100)\n",
        "print(mensage_random_choice ) "
      ],
      "execution_count": 248,
      "outputs": [
        {
          "output_type": "stream",
          "text": [
            "Acurácia atribuida :  0.24%\n"
          ],
          "name": "stdout"
        }
      ]
    },
    {
      "cell_type": "markdown",
      "metadata": {
        "id": "D1SCeFKB3kVk",
        "colab_type": "text"
      },
      "source": [
        "### Hamming Loss"
      ]
    },
    {
      "cell_type": "markdown",
      "metadata": {
        "id": "Ppzu7l7K3zPM",
        "colab_type": "text"
      },
      "source": [
        "  Esse metodo de avaliação trabalha com distância de elementos por linha, em outras palavras se tenho um **total de 4 atributos** para predizer e foram **obitidos 3 elementos corretos** a distância entre o total e o números de acerto é de **`` 4 - 3 = 1 ``**.\n",
        "  Quanto mais proxima de zero for essa distância melhor será os nossos resultados."
      ]
    },
    {
      "cell_type": "code",
      "metadata": {
        "id": "31YFPYWZETrV",
        "colab_type": "code",
        "colab": {}
      },
      "source": [
        "from sklearn.metrics import hamming_loss\n",
        "\n",
        "prediction_oneVsRest =  instance_OneVsRestClassifier.predict(test_input_dataset_tfidf)\n",
        "hamming_loss_oneVsRest = hamming_loss(array_test_output_dataset, prediction_oneVsRest)\n"
      ],
      "execution_count": 0,
      "outputs": []
    },
    {
      "cell_type": "code",
      "metadata": {
        "id": "pNnhkeTqGfnA",
        "colab_type": "code",
        "colab": {
          "base_uri": "https://localhost:8080/",
          "height": 34
        },
        "outputId": "57db9632-4c56-4269-d5c5-ea7d08480d8b"
      },
      "source": [
        "mensage_hamming_loss_distance  = 'Distância entre real e previsto(Hamming Loss): {0: .2f}.'.format(hamming_loss_oneVsRest)\n",
        "print(mensage_hamming_loss_distance ) "
      ],
      "execution_count": 259,
      "outputs": [
        {
          "output_type": "stream",
          "text": [
            "Distância entre real e previsto(Hamming Loss):  0.19.\n"
          ],
          "name": "stdout"
        }
      ]
    },
    {
      "cell_type": "markdown",
      "metadata": {
        "id": "GbaEBRHEHUmS",
        "colab_type": "text"
      },
      "source": [
        "Podemos ver também a correlação entre cada uma das variaveis, já que nesse modelo esstas foram tratadas de forma indepêndentes."
      ]
    },
    {
      "cell_type": "code",
      "metadata": {
        "id": "lmSSRq5pHeiW",
        "colab_type": "code",
        "colab": {
          "base_uri": "https://localhost:8080/",
          "height": 173
        },
        "outputId": "81e8233d-ddfa-4650-af94-7c40deb0b04e"
      },
      "source": [
        "data_set.corr()"
      ],
      "execution_count": 260,
      "outputs": [
        {
          "output_type": "execute_result",
          "data": {
            "text/html": [
              "<div>\n",
              "<style scoped>\n",
              "    .dataframe tbody tr th:only-of-type {\n",
              "        vertical-align: middle;\n",
              "    }\n",
              "\n",
              "    .dataframe tbody tr th {\n",
              "        vertical-align: top;\n",
              "    }\n",
              "\n",
              "    .dataframe thead th {\n",
              "        text-align: right;\n",
              "    }\n",
              "</style>\n",
              "<table border=\"1\" class=\"dataframe\">\n",
              "  <thead>\n",
              "    <tr style=\"text-align: right;\">\n",
              "      <th></th>\n",
              "      <th>node.js</th>\n",
              "      <th>jquery</th>\n",
              "      <th>html</th>\n",
              "      <th>angular</th>\n",
              "    </tr>\n",
              "  </thead>\n",
              "  <tbody>\n",
              "    <tr>\n",
              "      <th>node.js</th>\n",
              "      <td>1.000000</td>\n",
              "      <td>-0.321485</td>\n",
              "      <td>-0.273523</td>\n",
              "      <td>-0.101787</td>\n",
              "    </tr>\n",
              "    <tr>\n",
              "      <th>jquery</th>\n",
              "      <td>-0.321485</td>\n",
              "      <td>1.000000</td>\n",
              "      <td>-0.253977</td>\n",
              "      <td>-0.366269</td>\n",
              "    </tr>\n",
              "    <tr>\n",
              "      <th>html</th>\n",
              "      <td>-0.273523</td>\n",
              "      <td>-0.253977</td>\n",
              "      <td>1.000000</td>\n",
              "      <td>-0.286706</td>\n",
              "    </tr>\n",
              "    <tr>\n",
              "      <th>angular</th>\n",
              "      <td>-0.101787</td>\n",
              "      <td>-0.366269</td>\n",
              "      <td>-0.286706</td>\n",
              "      <td>1.000000</td>\n",
              "    </tr>\n",
              "  </tbody>\n",
              "</table>\n",
              "</div>"
            ],
            "text/plain": [
              "          node.js    jquery      html   angular\n",
              "node.js  1.000000 -0.321485 -0.273523 -0.101787\n",
              "jquery  -0.321485  1.000000 -0.253977 -0.366269\n",
              "html    -0.273523 -0.253977  1.000000 -0.286706\n",
              "angular -0.101787 -0.366269 -0.286706  1.000000"
            ]
          },
          "metadata": {
            "tags": []
          },
          "execution_count": 260
        }
      ]
    },
    {
      "cell_type": "markdown",
      "metadata": {
        "id": "TfvavIjFH-gn",
        "colab_type": "text"
      },
      "source": [
        "Notamos que nenhuma das variáveis da matriz veio com 0, existe pelo menos uma correlação inversa, o que levanta a duvida, seria possivel melhorar o desempenho desse modelo, levando enconta essas correlações?"
      ]
    }
  ]
}